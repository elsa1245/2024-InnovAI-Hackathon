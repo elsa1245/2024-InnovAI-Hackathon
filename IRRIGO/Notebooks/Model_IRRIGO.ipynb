{
  "cells": [
    {
      "cell_type": "markdown",
      "source": [
        "# Installs"
      ],
      "metadata": {
        "id": "o7ajzmMCYkos"
      },
      "id": "o7ajzmMCYkos"
    },
    {
      "cell_type": "code",
      "source": [
        "%%time\n",
        "!pip install --upgrade tf2onnx\n",
        "!pip install onnx onnxruntime torch\n",
        "!pip install onnx2pytorch # Install the onnx2pytorch package\n",
        "from IPython.display import clear_output  # Import clear_output from IPython.display\n",
        "\n",
        "clear_output()\n"
      ],
      "metadata": {
        "colab": {
          "base_uri": "https://localhost:8080/"
        },
        "id": "h0uU5aI_YrfU",
        "outputId": "53f73d3b-c6dd-4dab-9fde-86b193b7c910"
      },
      "id": "h0uU5aI_YrfU",
      "execution_count": null,
      "outputs": [
        {
          "output_type": "stream",
          "name": "stdout",
          "text": [
            "CPU times: user 150 ms, sys: 19.1 ms, total: 169 ms\n",
            "Wall time: 14.8 s\n"
          ]
        }
      ]
    },
    {
      "cell_type": "markdown",
      "source": [
        "# Imports"
      ],
      "metadata": {
        "id": "RxvRDjlwYzs4"
      },
      "id": "RxvRDjlwYzs4"
    },
    {
      "cell_type": "code",
      "execution_count": null,
      "id": "6dd84e5d",
      "metadata": {
        "execution": {
          "iopub.execute_input": "2024-11-17T20:38:00.506145Z",
          "iopub.status.busy": "2024-11-17T20:38:00.505647Z",
          "iopub.status.idle": "2024-11-17T20:38:17.483919Z",
          "shell.execute_reply": "2024-11-17T20:38:17.482563Z"
        },
        "papermill": {
          "duration": 16.987532,
          "end_time": "2024-11-17T20:38:17.487063",
          "exception": false,
          "start_time": "2024-11-17T20:38:00.499531",
          "status": "completed"
        },
        "tags": [],
        "id": "6dd84e5d"
      },
      "outputs": [],
      "source": [
        "\n",
        "import numpy as np\n",
        "import matplotlib.pyplot as plt\n",
        "from tensorflow.keras.models import Sequential\n",
        "from tensorflow.keras.layers import Dense, Dropout\n",
        "from tensorflow.keras import regularizers\n",
        "from tensorflow.keras.callbacks import EarlyStopping\n",
        "from sklearn.preprocessing import StandardScaler\n",
        "from sklearn.model_selection import train_test_split\n",
        "from tensorflow.keras.optimizers import Adam\n",
        "\n",
        "\n"
      ]
    },
    {
      "cell_type": "markdown",
      "source": [
        "# Load data"
      ],
      "metadata": {
        "id": "G7hp0i-5Y3fl"
      },
      "id": "G7hp0i-5Y3fl"
    },
    {
      "cell_type": "code",
      "source": [
        "data=pd.read_csv('data.csv')"
      ],
      "metadata": {
        "id": "frxtFIaqEsvG"
      },
      "id": "frxtFIaqEsvG",
      "execution_count": null,
      "outputs": []
    },
    {
      "cell_type": "code",
      "source": [
        "data.shape"
      ],
      "metadata": {
        "colab": {
          "base_uri": "https://localhost:8080/"
        },
        "id": "OAMMKN73EvNZ",
        "outputId": "b7fd9507-b351-4006-86d2-1d00c99d1e7c"
      },
      "id": "OAMMKN73EvNZ",
      "execution_count": null,
      "outputs": [
        {
          "output_type": "execute_result",
          "data": {
            "text/plain": [
              "(4688, 10)"
            ]
          },
          "metadata": {},
          "execution_count": 364
        }
      ]
    },
    {
      "cell_type": "code",
      "source": [
        "data.isnull().sum()\n"
      ],
      "metadata": {
        "colab": {
          "base_uri": "https://localhost:8080/",
          "height": 397
        },
        "id": "pwv6hIPBEx25",
        "outputId": "578fdc45-93dd-4c18-93c9-ed245cf507c4"
      },
      "id": "pwv6hIPBEx25",
      "execution_count": null,
      "outputs": [
        {
          "output_type": "execute_result",
          "data": {
            "text/plain": [
              "id              0\n",
              "temperature     0\n",
              "pressure        0\n",
              "altitude        0\n",
              "soilmiosture    0\n",
              "note            0\n",
              "status          0\n",
              "class           0\n",
              "date            0\n",
              "time            0\n",
              "dtype: int64"
            ],
            "text/html": [
              "<div>\n",
              "<style scoped>\n",
              "    .dataframe tbody tr th:only-of-type {\n",
              "        vertical-align: middle;\n",
              "    }\n",
              "\n",
              "    .dataframe tbody tr th {\n",
              "        vertical-align: top;\n",
              "    }\n",
              "\n",
              "    .dataframe thead th {\n",
              "        text-align: right;\n",
              "    }\n",
              "</style>\n",
              "<table border=\"1\" class=\"dataframe\">\n",
              "  <thead>\n",
              "    <tr style=\"text-align: right;\">\n",
              "      <th></th>\n",
              "      <th>0</th>\n",
              "    </tr>\n",
              "  </thead>\n",
              "  <tbody>\n",
              "    <tr>\n",
              "      <th>id</th>\n",
              "      <td>0</td>\n",
              "    </tr>\n",
              "    <tr>\n",
              "      <th>temperature</th>\n",
              "      <td>0</td>\n",
              "    </tr>\n",
              "    <tr>\n",
              "      <th>pressure</th>\n",
              "      <td>0</td>\n",
              "    </tr>\n",
              "    <tr>\n",
              "      <th>altitude</th>\n",
              "      <td>0</td>\n",
              "    </tr>\n",
              "    <tr>\n",
              "      <th>soilmiosture</th>\n",
              "      <td>0</td>\n",
              "    </tr>\n",
              "    <tr>\n",
              "      <th>note</th>\n",
              "      <td>0</td>\n",
              "    </tr>\n",
              "    <tr>\n",
              "      <th>status</th>\n",
              "      <td>0</td>\n",
              "    </tr>\n",
              "    <tr>\n",
              "      <th>class</th>\n",
              "      <td>0</td>\n",
              "    </tr>\n",
              "    <tr>\n",
              "      <th>date</th>\n",
              "      <td>0</td>\n",
              "    </tr>\n",
              "    <tr>\n",
              "      <th>time</th>\n",
              "      <td>0</td>\n",
              "    </tr>\n",
              "  </tbody>\n",
              "</table>\n",
              "</div><br><label><b>dtype:</b> int64</label>"
            ]
          },
          "metadata": {},
          "execution_count": 365
        }
      ]
    },
    {
      "cell_type": "code",
      "source": [
        "data= data.drop_duplicates()\n"
      ],
      "metadata": {
        "id": "n7et1uu8EzN9"
      },
      "id": "n7et1uu8EzN9",
      "execution_count": null,
      "outputs": []
    },
    {
      "cell_type": "code",
      "source": [
        "data.columns"
      ],
      "metadata": {
        "colab": {
          "base_uri": "https://localhost:8080/"
        },
        "id": "BuJlBJixE10V",
        "outputId": "73463784-b395-467f-f369-f8bf01884d82"
      },
      "id": "BuJlBJixE10V",
      "execution_count": null,
      "outputs": [
        {
          "output_type": "execute_result",
          "data": {
            "text/plain": [
              "Index(['id', 'temperature', 'pressure', 'altitude', 'soilmiosture', 'note',\n",
              "       'status', 'class', 'date', 'time'],\n",
              "      dtype='object')"
            ]
          },
          "metadata": {},
          "execution_count": 367
        }
      ]
    },
    {
      "cell_type": "markdown",
      "source": [
        "# Check for outliers"
      ],
      "metadata": {
        "id": "NxHaiQrQY94C"
      },
      "id": "NxHaiQrQY94C"
    },
    {
      "cell_type": "code",
      "source": [
        "plt.figure(figsize=(8, 6))\n",
        "sns.histplot(data['soilmiosture'], kde=True)\n",
        "plt.title('Distribution of soilmiosture')\n",
        "plt.show()"
      ],
      "metadata": {
        "colab": {
          "base_uri": "https://localhost:8080/",
          "height": 564
        },
        "id": "3FE5kHoCE4RL",
        "outputId": "5c7f58d0-4268-4c20-f861-d39df63e22d1"
      },
      "id": "3FE5kHoCE4RL",
      "execution_count": null,
      "outputs": [
        {
          "output_type": "display_data",
          "data": {
            "text/plain": [
              "<Figure size 800x600 with 1 Axes>"
            ],
            "image/png": "[encoded data removed]"
          },
          "metadata": {}
        }
      ]
    },
    {
      "cell_type": "code",
      "source": [
        "plt.figure(figsize=(8, 6))\n",
        "sns.histplot(data['temperature'], kde=True)\n",
        "plt.title('Distribution of Temperature')\n",
        "plt.show()"
      ],
      "metadata": {
        "colab": {
          "base_uri": "https://localhost:8080/",
          "height": 564
        },
        "id": "iiuZwEQeFAlJ",
        "outputId": "750c84db-efd5-4ceb-d0dd-ec5c3dfac78b"
      },
      "id": "iiuZwEQeFAlJ",
      "execution_count": null,
      "outputs": [
        {
          "output_type": "display_data",
          "data": {
            "text/plain": [
              "<Figure size 800x600 with 1 Axes>"
            ],
            "image/png": "[encoded data removed]"
          },
          "metadata": {}
        }
      ]
    },
    {
      "cell_type": "code",
      "source": [
        "import matplotlib.pyplot as plt\n",
        "import seaborn as sns\n",
        "\n",
        "# Create boxplot\n",
        "plt.figure(figsize=(10,6))  # Adjust figure size if necessary\n",
        "sns.boxplot(data)\n",
        "\n",
        "# Rotate the x-axis labels to avoid overlapping\n",
        "plt.xticks(rotation=45, ha=\"right\")  # Rotate labels by 45 degrees\n",
        "plt.tight_layout()  # Adjust layout to prevent clipping\n",
        "plt.show()"
      ],
      "metadata": {
        "colab": {
          "base_uri": "https://localhost:8080/",
          "height": 523
        },
        "id": "4GdFgf2eFGLF",
        "outputId": "b1a70e6d-7924-456a-e675-ef1fd56c49bd"
      },
      "id": "4GdFgf2eFGLF",
      "execution_count": null,
      "outputs": [
        {
          "output_type": "display_data",
          "data": {
            "text/plain": [
              "<Figure size 1000x600 with 1 Axes>"
            ],
            "image/png": "[encoded data removed]"
          },
          "metadata": {}
        }
      ]
    },
    {
      "cell_type": "code",
      "source": [
        "data.describe()"
      ],
      "metadata": {
        "colab": {
          "base_uri": "https://localhost:8080/",
          "height": 300
        },
        "id": "Qp_W4Rl_FLVq",
        "outputId": "c64bc6ef-b651-420c-c18d-810e82c29602"
      },
      "id": "Qp_W4Rl_FLVq",
      "execution_count": null,
      "outputs": [
        {
          "output_type": "execute_result",
          "data": {
            "text/plain": [
              "                id  temperature      pressure  soilmiosture         note  \\\n",
              "count  4688.000000  4688.000000   4688.000000   4688.000000  4688.000000   \n",
              "mean   2344.500000    29.599089   9963.153215    243.692406     1.878413   \n",
              "std    1353.453361     5.842685   1383.602527     76.176855     1.152977   \n",
              "min       1.000000    27.970000  -2120.400000   -243.000000     0.000000   \n",
              "25%    1172.750000    28.630000   9935.255000    171.000000     1.000000   \n",
              "50%    2344.500000    29.180000   9969.535000    233.000000     2.000000   \n",
              "75%    3516.250000    29.990000   9975.700000    326.000000     3.000000   \n",
              "max    4688.000000   178.700000  99931.100000    480.000000     3.000000   \n",
              "\n",
              "            status  \n",
              "count  4688.000000  \n",
              "mean      0.703712  \n",
              "std       0.456668  \n",
              "min       0.000000  \n",
              "25%       0.000000  \n",
              "50%       1.000000  \n",
              "75%       1.000000  \n",
              "max       1.000000  "
            ],
            "text/html": [
              "\n",
              "  <div id=\"df-f039e9d3-4f93-42fa-b8b8-ffa77e884a96\" class=\"colab-df-container\">\n",
              "    <div>\n",
              "<style scoped>\n",
              "    .dataframe tbody tr th:only-of-type {\n",
              "        vertical-align: middle;\n",
              "    }\n",
              "\n",
              "    .dataframe tbody tr th {\n",
              "        vertical-align: top;\n",
              "    }\n",
              "\n",
              "    .dataframe thead th {\n",
              "        text-align: right;\n",
              "    }\n",
              "</style>\n",
              "<table border=\"1\" class=\"dataframe\">\n",
              "  <thead>\n",
              "    <tr style=\"text-align: right;\">\n",
              "      <th></th>\n",
              "      <th>id</th>\n",
              "      <th>temperature</th>\n",
              "      <th>pressure</th>\n",
              "      <th>soilmiosture</th>\n",
              "      <th>note</th>\n",
              "      <th>status</th>\n",
              "    </tr>\n",
              "  </thead>\n",
              "  <tbody>\n",
              "    <tr>\n",
              "      <th>count</th>\n",
              "      <td>4688.000000</td>\n",
              "      <td>4688.000000</td>\n",
              "      <td>4688.000000</td>\n",
              "      <td>4688.000000</td>\n",
              "      <td>4688.000000</td>\n",
              "      <td>4688.000000</td>\n",
              "    </tr>\n",
              "    <tr>\n",
              "      <th>mean</th>\n",
              "      <td>2344.500000</td>\n",
              "      <td>29.599089</td>\n",
              "      <td>9963.153215</td>\n",
              "      <td>243.692406</td>\n",
              "      <td>1.878413</td>\n",
              "      <td>0.703712</td>\n",
              "    </tr>\n",
              "    <tr>\n",
              "      <th>std</th>\n",
              "      <td>1353.453361</td>\n",
              "      <td>5.842685</td>\n",
              "      <td>1383.602527</td>\n",
              "      <td>76.176855</td>\n",
              "      <td>1.152977</td>\n",
              "      <td>0.456668</td>\n",
              "    </tr>\n",
              "    <tr>\n",
              "      <th>min</th>\n",
              "      <td>1.000000</td>\n",
              "      <td>27.970000</td>\n",
              "      <td>-2120.400000</td>\n",
              "      <td>-243.000000</td>\n",
              "      <td>0.000000</td>\n",
              "      <td>0.000000</td>\n",
              "    </tr>\n",
              "    <tr>\n",
              "      <th>25%</th>\n",
              "      <td>1172.750000</td>\n",
              "      <td>28.630000</td>\n",
              "      <td>9935.255000</td>\n",
              "      <td>171.000000</td>\n",
              "      <td>1.000000</td>\n",
              "      <td>0.000000</td>\n",
              "    </tr>\n",
              "    <tr>\n",
              "      <th>50%</th>\n",
              "      <td>2344.500000</td>\n",
              "      <td>29.180000</td>\n",
              "      <td>9969.535000</td>\n",
              "      <td>233.000000</td>\n",
              "      <td>2.000000</td>\n",
              "      <td>1.000000</td>\n",
              "    </tr>\n",
              "    <tr>\n",
              "      <th>75%</th>\n",
              "      <td>3516.250000</td>\n",
              "      <td>29.990000</td>\n",
              "      <td>9975.700000</td>\n",
              "      <td>326.000000</td>\n",
              "      <td>3.000000</td>\n",
              "      <td>1.000000</td>\n",
              "    </tr>\n",
              "    <tr>\n",
              "      <th>max</th>\n",
              "      <td>4688.000000</td>\n",
              "      <td>178.700000</td>\n",
              "      <td>99931.100000</td>\n",
              "      <td>480.000000</td>\n",
              "      <td>3.000000</td>\n",
              "      <td>1.000000</td>\n",
              "    </tr>\n",
              "  </tbody>\n",
              "</table>\n",
              "</div>\n",
              "    <div class=\"colab-df-buttons\">\n",
              "\n",
              "  <div class=\"colab-df-container\">\n",
              "    <button class=\"colab-df-convert\" onclick=\"convertToInteractive('df-f039e9d3-4f93-42fa-b8b8-ffa77e884a96')\"\n",
              "            title=\"Convert this dataframe to an interactive table.\"\n",
              "            style=\"display:none;\">\n",
              "\n",
              "  <svg xmlns=\"http://www.w3.org/2000/svg\" height=\"24px\" viewBox=\"0 -960 960 960\">\n",
              "    <path d=\"M120-120v-720h720v720H120Zm60-500h600v-160H180v160Zm220 220h160v-160H400v160Zm0 220h160v-160H400v160ZM180-400h160v-160H180v160Zm440 0h160v-160H620v160ZM180-180h160v-160H180v160Zm440 0h160v-160H620v160Z\"/>\n",
              "  </svg>\n",
              "    </button>\n",
              "\n",
              "  <style>\n",
              "    .colab-df-container {\n",
              "      display:flex;\n",
              "      gap: 12px;\n",
              "    }\n",
              "\n",
              "    .colab-df-convert {\n",
              "      background-color: #E8F0FE;\n",
              "      border: none;\n",
              "      border-radius: 50%;\n",
              "      cursor: pointer;\n",
              "      display: none;\n",
              "      fill: #1967D2;\n",
              "      height: 32px;\n",
              "      padding: 0 0 0 0;\n",
              "      width: 32px;\n",
              "    }\n",
              "\n",
              "    .colab-df-convert:hover {\n",
              "      background-color: #E2EBFA;\n",
              "      box-shadow: 0px 1px 2px rgba(60, 64, 67, 0.3), 0px 1px 3px 1px rgba(60, 64, 67, 0.15);\n",
              "      fill: #174EA6;\n",
              "    }\n",
              "\n",
              "    .colab-df-buttons div {\n",
              "      margin-bottom: 4px;\n",
              "    }\n",
              "\n",
              "    [theme=dark] .colab-df-convert {\n",
              "      background-color: #3B4455;\n",
              "      fill: #D2E3FC;\n",
              "    }\n",
              "\n",
              "    [theme=dark] .colab-df-convert:hover {\n",
              "      background-color: #434B5C;\n",
              "      box-shadow: 0px 1px 3px 1px rgba(0, 0, 0, 0.15);\n",
              "      filter: drop-shadow(0px 1px 2px rgba(0, 0, 0, 0.3));\n",
              "      fill: #FFFFFF;\n",
              "    }\n",
              "  </style>\n",
              "\n",
              "    <script>\n",
              "      const buttonEl =\n",
              "        document.querySelector('#df-f039e9d3-4f93-42fa-b8b8-ffa77e884a96 button.colab-df-convert');\n",
              "      buttonEl.style.display =\n",
              "        google.colab.kernel.accessAllowed ? 'block' : 'none';\n",
              "\n",
              "      async function convertToInteractive(key) {\n",
              "        const element = document.querySelector('#df-f039e9d3-4f93-42fa-b8b8-ffa77e884a96');\n",
              "        const dataTable =\n",
              "          await google.colab.kernel.invokeFunction('convertToInteractive',\n",
              "                                                    [key], {});\n",
              "        if (!dataTable) return;\n",
              "\n",
              "        const docLinkHtml = 'Like what you see? Visit the ' +\n",
              "          '<a target=\"_blank\" href=https://colab.research.google.com/notebooks/data_table.ipynb>data table notebook</a>'\n",
              "          + ' to learn more about interactive tables.';\n",
              "        element.innerHTML = '';\n",
              "        dataTable['output_type'] = 'display_data';\n",
              "        await google.colab.output.renderOutput(dataTable, element);\n",
              "        const docLink = document.createElement('div');\n",
              "        docLink.innerHTML = docLinkHtml;\n",
              "        element.appendChild(docLink);\n",
              "      }\n",
              "    </script>\n",
              "  </div>\n",
              "\n",
              "\n",
              "<div id=\"df-4ff358ae-8606-4007-9e75-34ae11c27414\">\n",
              "  <button class=\"colab-df-quickchart\" onclick=\"quickchart('df-4ff358ae-8606-4007-9e75-34ae11c27414')\"\n",
              "            title=\"Suggest charts\"\n",
              "            style=\"display:none;\">\n",
              "\n",
              "<svg xmlns=\"http://www.w3.org/2000/svg\" height=\"24px\"viewBox=\"0 0 24 24\"\n",
              "     width=\"24px\">\n",
              "    <g>\n",
              "        <path d=\"M19 3H5c-1.1 0-2 .9-2 2v14c0 1.1.9 2 2 2h14c1.1 0 2-.9 2-2V5c0-1.1-.9-2-2-2zM9 17H7v-7h2v7zm4 0h-2V7h2v10zm4 0h-2v-4h2v4z\"/>\n",
              "    </g>\n",
              "</svg>\n",
              "  </button>\n",
              "\n",
              "<style>\n",
              "  .colab-df-quickchart {\n",
              "      --bg-color: #E8F0FE;\n",
              "      --fill-color: #1967D2;\n",
              "      --hover-bg-color: #E2EBFA;\n",
              "      --hover-fill-color: #174EA6;\n",
              "      --disabled-fill-color: #AAA;\n",
              "      --disabled-bg-color: #DDD;\n",
              "  }\n",
              "\n",
              "  [theme=dark] .colab-df-quickchart {\n",
              "      --bg-color: #3B4455;\n",
              "      --fill-color: #D2E3FC;\n",
              "      --hover-bg-color: #434B5C;\n",
              "      --hover-fill-color: #FFFFFF;\n",
              "      --disabled-bg-color: #3B4455;\n",
              "      --disabled-fill-color: #666;\n",
              "  }\n",
              "\n",
              "  .colab-df-quickchart {\n",
              "    background-color: var(--bg-color);\n",
              "    border: none;\n",
              "    border-radius: 50%;\n",
              "    cursor: pointer;\n",
              "    display: none;\n",
              "    fill: var(--fill-color);\n",
              "    height: 32px;\n",
              "    padding: 0;\n",
              "    width: 32px;\n",
              "  }\n",
              "\n",
              "  .colab-df-quickchart:hover {\n",
              "    background-color: var(--hover-bg-color);\n",
              "    box-shadow: 0 1px 2px rgba(60, 64, 67, 0.3), 0 1px 3px 1px rgba(60, 64, 67, 0.15);\n",
              "    fill: var(--button-hover-fill-color);\n",
              "  }\n",
              "\n",
              "  .colab-df-quickchart-complete:disabled,\n",
              "  .colab-df-quickchart-complete:disabled:hover {\n",
              "    background-color: var(--disabled-bg-color);\n",
              "    fill: var(--disabled-fill-color);\n",
              "    box-shadow: none;\n",
              "  }\n",
              "\n",
              "  .colab-df-spinner {\n",
              "    border: 2px solid var(--fill-color);\n",
              "    border-color: transparent;\n",
              "    border-bottom-color: var(--fill-color);\n",
              "    animation:\n",
              "      spin 1s steps(1) infinite;\n",
              "  }\n",
              "\n",
              "  @keyframes spin {\n",
              "    0% {\n",
              "      border-color: transparent;\n",
              "      border-bottom-color: var(--fill-color);\n",
              "      border-left-color: var(--fill-color);\n",
              "    }\n",
              "    20% {\n",
              "      border-color: transparent;\n",
              "      border-left-color: var(--fill-color);\n",
              "      border-top-color: var(--fill-color);\n",
              "    }\n",
              "    30% {\n",
              "      border-color: transparent;\n",
              "      border-left-color: var(--fill-color);\n",
              "      border-top-color: var(--fill-color);\n",
              "      border-right-color: var(--fill-color);\n",
              "    }\n",
              "    40% {\n",
              "      border-color: transparent;\n",
              "      border-right-color: var(--fill-color);\n",
              "      border-top-color: var(--fill-color);\n",
              "    }\n",
              "    60% {\n",
              "      border-color: transparent;\n",
              "      border-right-color: var(--fill-color);\n",
              "    }\n",
              "    80% {\n",
              "      border-color: transparent;\n",
              "      border-right-color: var(--fill-color);\n",
              "      border-bottom-color: var(--fill-color);\n",
              "    }\n",
              "    90% {\n",
              "      border-color: transparent;\n",
              "      border-bottom-color: var(--fill-color);\n",
              "    }\n",
              "  }\n",
              "</style>\n",
              "\n",
              "  <script>\n",
              "    async function quickchart(key) {\n",
              "      const quickchartButtonEl =\n",
              "        document.querySelector('#' + key + ' button');\n",
              "      quickchartButtonEl.disabled = true;  // To prevent multiple clicks.\n",
              "      quickchartButtonEl.classList.add('colab-df-spinner');\n",
              "      try {\n",
              "        const charts = await google.colab.kernel.invokeFunction(\n",
              "            'suggestCharts', [key], {});\n",
              "      } catch (error) {\n",
              "        console.error('Error during call to suggestCharts:', error);\n",
              "      }\n",
              "      quickchartButtonEl.classList.remove('colab-df-spinner');\n",
              "      quickchartButtonEl.classList.add('colab-df-quickchart-complete');\n",
              "    }\n",
              "    (() => {\n",
              "      let quickchartButtonEl =\n",
              "        document.querySelector('#df-4ff358ae-8606-4007-9e75-34ae11c27414 button');\n",
              "      quickchartButtonEl.style.display =\n",
              "        google.colab.kernel.accessAllowed ? 'block' : 'none';\n",
              "    })();\n",
              "  </script>\n",
              "</div>\n",
              "\n",
              "    </div>\n",
              "  </div>\n"
            ],
            "application/vnd.google.colaboratory.intrinsic+json": {
              "type": "dataframe",
              "summary": "{\n  \"name\": \"data\",\n  \"rows\": 8,\n  \"fields\": [\n    {\n      \"column\": \"id\",\n      \"properties\": {\n        \"dtype\": \"number\",\n        \"std\": 1689.273091950157,\n        \"min\": 1.0,\n        \"max\": 4688.0,\n        \"num_unique_values\": 6,\n        \"samples\": [\n          4688.0,\n          2344.5,\n          3516.25\n        ],\n        \"semantic_type\": \"\",\n        \"description\": \"\"\n      }\n    },\n    {\n      \"column\": \"temperature\",\n      \"properties\": {\n        \"dtype\": \"number\",\n        \"std\": 1641.6938544393488,\n        \"min\": 5.842684805575336,\n        \"max\": 4688.0,\n        \"num_unique_values\": 8,\n        \"samples\": [\n          29.59908916382253,\n          29.18,\n          4688.0\n        ],\n        \"semantic_type\": \"\",\n        \"description\": \"\"\n      }\n    },\n    {\n      \"column\": \"pressure\",\n      \"properties\": {\n        \"dtype\": \"number\",\n        \"std\": 33443.660601302305,\n        \"min\": -2120.4,\n        \"max\": 99931.1,\n        \"num_unique_values\": 8,\n        \"samples\": [\n          9963.153214590442,\n          9969.535,\n          4688.0\n        ],\n        \"semantic_type\": \"\",\n        \"description\": \"\"\n      }\n    },\n    {\n      \"column\": \"soilmiosture\",\n      \"properties\": {\n        \"dtype\": \"number\",\n        \"std\": 1606.2113837885581,\n        \"min\": -243.0,\n        \"max\": 4688.0,\n        \"num_unique_values\": 8,\n        \"samples\": [\n          243.6924061433447,\n          233.0,\n          4688.0\n        ],\n        \"semantic_type\": \"\",\n        \"description\": \"\"\n      }\n    },\n    {\n      \"column\": \"note\",\n      \"properties\": {\n        \"dtype\": \"number\",\n        \"std\": 1656.8509275999013,\n        \"min\": 0.0,\n        \"max\": 4688.0,\n        \"num_unique_values\": 7,\n        \"samples\": [\n          4688.0,\n          1.8784129692832765,\n          2.0\n        ],\n        \"semantic_type\": \"\",\n        \"description\": \"\"\n      }\n    },\n    {\n      \"column\": \"status\",\n      \"properties\": {\n        \"dtype\": \"number\",\n        \"std\": 1657.2482172369284,\n        \"min\": 0.0,\n        \"max\": 4688.0,\n        \"num_unique_values\": 5,\n        \"samples\": [\n          0.7037116040955631,\n          1.0,\n          0.4566684436650446\n        ],\n        \"semantic_type\": \"\",\n        \"description\": \"\"\n      }\n    }\n  ]\n}"
            }
          },
          "metadata": {},
          "execution_count": 371
        }
      ]
    },
    {
      "cell_type": "code",
      "source": [
        "def detect_outliers_iqr(df):\n",
        "    # Calculer les percentiles\n",
        "    Q1 = df.quantile(0.25)\n",
        "    Q3 = df.quantile(0.75)\n",
        "    IQR = Q3 - Q1\n",
        "\n",
        "    # Calculer les bornes inférieure et supérieure\n",
        "    lower_bound = Q1 - 1.5 * IQR\n",
        "    upper_bound = Q3 + 1.5 * IQR\n",
        "\n",
        "    # Détecter les valeurs aberrantes\n",
        "    outliers = (df < lower_bound) | (df > upper_bound)\n",
        "    return outliers\n",
        "\n",
        "# Appliquer la détection d'outliers à chaque colonne\n",
        "outliers = detect_outliers_iqr(data[['temperature', 'pressure', 'soilmiosture']])\n",
        "print(outliers.sum())  # Affiche le nombre d'outliers pour chaque colonne\n"
      ],
      "metadata": {
        "colab": {
          "base_uri": "https://localhost:8080/"
        },
        "id": "0y4voG-OFPUU",
        "outputId": "ef6e00ac-a178-4944-d59d-fde708d92148"
      },
      "id": "0y4voG-OFPUU",
      "execution_count": null,
      "outputs": [
        {
          "output_type": "stream",
          "name": "stdout",
          "text": [
            "temperature     45\n",
            "pressure         7\n",
            "soilmiosture     1\n",
            "dtype: int64\n"
          ]
        }
      ]
    },
    {
      "cell_type": "code",
      "source": [
        "import pandas as pd\n",
        "import numpy as np\n",
        "\n",
        "# Supposons que vous ayez déjà détecté les outliers et que `outliers` est un masque boolean pour chaque colonne.\n",
        "outliers = detect_outliers_iqr(data[['temperature', 'pressure', 'soilmiosture']])\n",
        "\n",
        "# Supprimer les lignes qui contiennent des outliers\n",
        "data = data[~outliers.any(axis=1)]\n",
        "\n",
        "# Afficher les statistiques descriptives après suppression des outliers\n",
        "print(data.describe())\n"
      ],
      "metadata": {
        "colab": {
          "base_uri": "https://localhost:8080/"
        },
        "id": "KTJPgagQFSMS",
        "outputId": "5fece015-d8b4-496e-879e-9bf2f0fda0a0"
      },
      "id": "KTJPgagQFSMS",
      "execution_count": null,
      "outputs": [
        {
          "output_type": "stream",
          "name": "stdout",
          "text": [
            "                id  temperature     pressure  soilmiosture         note  \\\n",
            "count  4643.000000  4643.000000  4643.000000   4643.000000  4643.000000   \n",
            "mean   2345.396295    29.352270  9959.409222    243.726470     1.881973   \n",
            "std    1349.506139     0.907561    21.753562     75.204029     1.150588   \n",
            "min       1.000000    27.970000  9920.360000    157.000000     0.000000   \n",
            "25%    1188.500000    28.620000  9935.430000    171.000000     1.000000   \n",
            "50%    2349.000000    29.170000  9969.440000    233.000000     2.000000   \n",
            "75%    3509.500000    29.960000  9975.675000    326.000000     3.000000   \n",
            "max    4688.000000    32.030000  9994.160000    480.000000     3.000000   \n",
            "\n",
            "            status  \n",
            "count  4643.000000  \n",
            "mean      0.705148  \n",
            "std       0.456026  \n",
            "min       0.000000  \n",
            "25%       0.000000  \n",
            "50%       1.000000  \n",
            "75%       1.000000  \n",
            "max       1.000000  \n"
          ]
        }
      ]
    },
    {
      "cell_type": "code",
      "execution_count": null,
      "id": "6a346b16",
      "metadata": {
        "execution": {
          "iopub.execute_input": "2024-11-17T20:38:17.495856Z",
          "iopub.status.busy": "2024-11-17T20:38:17.495394Z",
          "iopub.status.idle": "2024-11-17T20:38:17.512808Z",
          "shell.execute_reply": "2024-11-17T20:38:17.511840Z"
        },
        "papermill": {
          "duration": 0.024705,
          "end_time": "2024-11-17T20:38:17.515460",
          "exception": false,
          "start_time": "2024-11-17T20:38:17.490755",
          "status": "completed"
        },
        "tags": [],
        "colab": {
          "base_uri": "https://localhost:8080/"
        },
        "id": "6a346b16",
        "outputId": "54a8baae-e0e2-49e7-8154-7348aa4e4b17"
      },
      "outputs": [
        {
          "output_type": "stream",
          "name": "stderr",
          "text": [
            "<ipython-input-374-c031ccbdcc85>:2: SettingWithCopyWarning: \n",
            "A value is trying to be set on a copy of a slice from a DataFrame\n",
            "\n",
            "See the caveats in the documentation: https://pandas.pydata.org/pandas-docs/stable/user_guide/indexing.html#returning-a-view-versus-a-copy\n",
            "  data.dropna(inplace=True)\n"
          ]
        }
      ],
      "source": [
        "# Drop rows with null values, if any\n",
        "data.dropna(inplace=True)\n",
        "\n",
        "# Drop unnecessary columns (like id, date, and time)\n",
        "data = data.drop(['id', 'note', 'status', 'date', 'time', 'pressure', 'altitude'], axis=1)\n",
        "\n",
        "# Encode the target column 'class'\n",
        "label_encoder = LabelEncoder()\n",
        "data['class'] = label_encoder.fit_transform(data['class'])\n",
        "\n"
      ]
    },
    {
      "cell_type": "code",
      "source": [
        "data['class'].value_counts()"
      ],
      "metadata": {
        "colab": {
          "base_uri": "https://localhost:8080/",
          "height": 241
        },
        "id": "gZvUrW3O96ms",
        "outputId": "4c098e89-7cc0-492b-e5ad-60f9124a91a1"
      },
      "id": "gZvUrW3O96ms",
      "execution_count": null,
      "outputs": [
        {
          "output_type": "execute_result",
          "data": {
            "text/plain": [
              "class\n",
              "2    1826\n",
              "3    1448\n",
              "1    1005\n",
              "0     364\n",
              "Name: count, dtype: int64"
            ],
            "text/html": [
              "<div>\n",
              "<style scoped>\n",
              "    .dataframe tbody tr th:only-of-type {\n",
              "        vertical-align: middle;\n",
              "    }\n",
              "\n",
              "    .dataframe tbody tr th {\n",
              "        vertical-align: top;\n",
              "    }\n",
              "\n",
              "    .dataframe thead th {\n",
              "        text-align: right;\n",
              "    }\n",
              "</style>\n",
              "<table border=\"1\" class=\"dataframe\">\n",
              "  <thead>\n",
              "    <tr style=\"text-align: right;\">\n",
              "      <th></th>\n",
              "      <th>count</th>\n",
              "    </tr>\n",
              "    <tr>\n",
              "      <th>class</th>\n",
              "      <th></th>\n",
              "    </tr>\n",
              "  </thead>\n",
              "  <tbody>\n",
              "    <tr>\n",
              "      <th>2</th>\n",
              "      <td>1826</td>\n",
              "    </tr>\n",
              "    <tr>\n",
              "      <th>3</th>\n",
              "      <td>1448</td>\n",
              "    </tr>\n",
              "    <tr>\n",
              "      <th>1</th>\n",
              "      <td>1005</td>\n",
              "    </tr>\n",
              "    <tr>\n",
              "      <th>0</th>\n",
              "      <td>364</td>\n",
              "    </tr>\n",
              "  </tbody>\n",
              "</table>\n",
              "</div><br><label><b>dtype:</b> int64</label>"
            ]
          },
          "metadata": {},
          "execution_count": 375
        }
      ]
    },
    {
      "cell_type": "markdown",
      "source": [
        "# Separate features and target"
      ],
      "metadata": {
        "id": "fJ-8m2CmZXwF"
      },
      "id": "fJ-8m2CmZXwF"
    },
    {
      "cell_type": "code",
      "execution_count": null,
      "id": "f60103c4",
      "metadata": {
        "execution": {
          "iopub.execute_input": "2024-11-17T20:38:17.524023Z",
          "iopub.status.busy": "2024-11-17T20:38:17.523235Z",
          "iopub.status.idle": "2024-11-17T20:38:17.529790Z",
          "shell.execute_reply": "2024-11-17T20:38:17.528622Z"
        },
        "papermill": {
          "duration": 0.013863,
          "end_time": "2024-11-17T20:38:17.532624",
          "exception": false,
          "start_time": "2024-11-17T20:38:17.518761",
          "status": "completed"
        },
        "tags": [],
        "id": "f60103c4"
      },
      "outputs": [],
      "source": [
        "# Separate features and target\n",
        "X = data.drop('class', axis=1)\n",
        "y = data['class']"
      ]
    },
    {
      "cell_type": "markdown",
      "source": [
        "# Normalisation des caractéristiques"
      ],
      "metadata": {
        "id": "jg5QcKzOZank"
      },
      "id": "jg5QcKzOZank"
    },
    {
      "cell_type": "code",
      "source": [
        "# Normalisation des caractéristiques\n",
        "scaler = StandardScaler()\n",
        "X = scaler.fit_transform(X)\n",
        "\n",
        "# Division des données en ensembles d'entraînement et de test\n",
        "X_train, X_test, y_train, y_test = train_test_split(X, y, test_size=0.2, random_state=42)\n",
        "\n",
        "# **2. Construction du modèle**\n",
        "input_dim = X_train.shape[1]  # Nombre de caractéristiques d'entrée\n",
        "num_classes = len(np.unique(y))  # Nombre de classes de sortie"
      ],
      "metadata": {
        "id": "vpPdU_qwBP-2"
      },
      "id": "vpPdU_qwBP-2",
      "execution_count": null,
      "outputs": []
    },
    {
      "cell_type": "markdown",
      "source": [
        "# Construction du modèle avec régularisation et Dropout"
      ],
      "metadata": {
        "id": "HTjzuTBuZeEk"
      },
      "id": "HTjzuTBuZeEk"
    },
    {
      "cell_type": "code",
      "source": [
        "# **2. Construction du modèle avec régularisation et Dropout**\n",
        "model = Sequential([\n",
        "    # Première couche dense avec régularisation L2 et Dropout\n",
        "    Dense(64, activation='relu', input_shape=(X_train.shape[1],),\n",
        "          kernel_regularizer=regularizers.l2(0.01)),\n",
        "    Dropout(0.3),  # Dropout à 30% pour éviter le sur-apprentissage\n",
        "\n",
        "    # Deuxième couche dense avec régularisation L2 et Dropout\n",
        "    Dense(32, activation='relu', kernel_regularizer=regularizers.l2(0.01)),\n",
        "    Dropout(0.3),\n",
        "\n",
        "    # Troisième couche dense avec régularisation L2 et Dropout\n",
        "    Dense(16, activation='relu', kernel_regularizer=regularizers.l2(0.01)),\n",
        "    Dropout(0.3),\n",
        "\n",
        "    # Couche de sortie avec activation softmax\n",
        "    Dense(num_classes, activation='softmax')  # Softmax pour la classification multi-classes\n",
        "])\n",
        "\n",
        "# **3. Compilation du modèle**\n",
        "optimizer = Adam(learning_rate=0.001)  # Optimiseur Adam avec taux d'apprentissage défini\n",
        "model.compile(optimizer=optimizer, loss='sparse_categorical_crossentropy', metrics=['accuracy'])\n",
        "\n",
        "# **4. Ajout de l'early stopping**\n",
        "early_stopping = EarlyStopping(monitor='val_loss', patience=10, restore_best_weights=True)\n",
        "\n",
        "# **5. Entraînement du modèle avec validation et early stopping**\n",
        "history = model.fit(X_train, y_train, epochs=100, batch_size=32, validation_split=0.2, callbacks=[early_stopping])\n",
        "\n",
        "# **6. Évaluation du modèle sur l'ensemble de test**\n",
        "loss, accuracy = model.evaluate(X_test, y_test)\n",
        "print(f\"Test Accuracy: {accuracy:.2f}\")"
      ],
      "metadata": {
        "colab": {
          "base_uri": "https://localhost:8080/"
        },
        "id": "ewMutAmqW8oL",
        "outputId": "7379b28b-ad9d-4c5b-c26f-b77496b05009"
      },
      "id": "ewMutAmqW8oL",
      "execution_count": null,
      "outputs": [
        {
          "output_type": "stream",
          "name": "stderr",
          "text": [
            "/usr/local/lib/python3.10/dist-packages/keras/src/layers/core/dense.py:87: UserWarning: Do not pass an `input_shape`/`input_dim` argument to a layer. When using Sequential models, prefer using an `Input(shape)` object as the first layer in the model instead.\n",
            "  super().__init__(activity_regularizer=activity_regularizer, **kwargs)\n"
          ]
        },
        {
          "output_type": "stream",
          "name": "stdout",
          "text": [
            "Epoch 1/100\n",
            "\u001b[1m93/93\u001b[0m \u001b[32m━━━━━━━━━━━━━━━━━━━━\u001b[0m\u001b[37m\u001b[0m \u001b[1m8s\u001b[0m 22ms/step - accuracy: 0.4518 - loss: 1.8630 - val_accuracy: 0.8210 - val_loss: 1.1290\n",
            "Epoch 2/100\n",
            "\u001b[1m93/93\u001b[0m \u001b[32m━━━━━━━━━━━━━━━━━━━━\u001b[0m\u001b[37m\u001b[0m \u001b[1m1s\u001b[0m 6ms/step - accuracy: 0.7611 - loss: 1.1435 - val_accuracy: 0.9125 - val_loss: 0.6905\n",
            "Epoch 3/100\n",
            "\u001b[1m93/93\u001b[0m \u001b[32m━━━━━━━━━━━━━━━━━━━━\u001b[0m\u001b[37m\u001b[0m \u001b[1m1s\u001b[0m 6ms/step - accuracy: 0.8535 - loss: 0.8174 - val_accuracy: 0.9152 - val_loss: 0.5410\n",
            "Epoch 4/100\n",
            "\u001b[1m93/93\u001b[0m \u001b[32m━━━━━━━━━━━━━━━━━━━━\u001b[0m\u001b[37m\u001b[0m \u001b[1m1s\u001b[0m 8ms/step - accuracy: 0.8788 - loss: 0.6470 - val_accuracy: 0.9206 - val_loss: 0.4520\n",
            "Epoch 5/100\n",
            "\u001b[1m93/93\u001b[0m \u001b[32m━━━━━━━━━━━━━━━━━━━━\u001b[0m\u001b[37m\u001b[0m \u001b[1m1s\u001b[0m 6ms/step - accuracy: 0.8889 - loss: 0.5533 - val_accuracy: 0.9192 - val_loss: 0.4071\n",
            "Epoch 6/100\n",
            "\u001b[1m93/93\u001b[0m \u001b[32m━━━━━━━━━━━━━━━━━━━━\u001b[0m\u001b[37m\u001b[0m \u001b[1m1s\u001b[0m 6ms/step - accuracy: 0.8957 - loss: 0.5031 - val_accuracy: 0.9206 - val_loss: 0.3777\n",
            "Epoch 7/100\n",
            "\u001b[1m93/93\u001b[0m \u001b[32m━━━━━━━━━━━━━━━━━━━━\u001b[0m\u001b[37m\u001b[0m \u001b[1m1s\u001b[0m 7ms/step - accuracy: 0.9000 - loss: 0.4631 - val_accuracy: 0.9219 - val_loss: 0.3524\n",
            "Epoch 8/100\n",
            "\u001b[1m93/93\u001b[0m \u001b[32m━━━━━━━━━━━━━━━━━━━━\u001b[0m\u001b[37m\u001b[0m \u001b[1m1s\u001b[0m 7ms/step - accuracy: 0.8968 - loss: 0.4522 - val_accuracy: 0.9233 - val_loss: 0.3377\n",
            "Epoch 9/100\n",
            "\u001b[1m93/93\u001b[0m \u001b[32m━━━━━━━━━━━━━━━━━━━━\u001b[0m\u001b[37m\u001b[0m \u001b[1m2s\u001b[0m 11ms/step - accuracy: 0.9072 - loss: 0.4205 - val_accuracy: 0.9219 - val_loss: 0.3302\n",
            "Epoch 10/100\n",
            "\u001b[1m93/93\u001b[0m \u001b[32m━━━━━━━━━━━━━━━━━━━━\u001b[0m\u001b[37m\u001b[0m \u001b[1m1s\u001b[0m 7ms/step - accuracy: 0.9037 - loss: 0.4164 - val_accuracy: 0.9219 - val_loss: 0.3140\n",
            "Epoch 11/100\n",
            "\u001b[1m93/93\u001b[0m \u001b[32m━━━━━━━━━━━━━━━━━━━━\u001b[0m\u001b[37m\u001b[0m \u001b[1m1s\u001b[0m 9ms/step - accuracy: 0.9095 - loss: 0.3909 - val_accuracy: 0.9219 - val_loss: 0.3158\n",
            "Epoch 12/100\n",
            "\u001b[1m93/93\u001b[0m \u001b[32m━━━━━━━━━━━━━━━━━━━━\u001b[0m\u001b[37m\u001b[0m \u001b[1m2s\u001b[0m 13ms/step - accuracy: 0.9133 - loss: 0.3738 - val_accuracy: 0.9219 - val_loss: 0.2977\n",
            "Epoch 13/100\n",
            "\u001b[1m93/93\u001b[0m \u001b[32m━━━━━━━━━━━━━━━━━━━━\u001b[0m\u001b[37m\u001b[0m \u001b[1m2s\u001b[0m 11ms/step - accuracy: 0.9189 - loss: 0.3581 - val_accuracy: 0.9233 - val_loss: 0.2932\n",
            "Epoch 14/100\n",
            "\u001b[1m93/93\u001b[0m \u001b[32m━━━━━━━━━━━━━━━━━━━━\u001b[0m\u001b[37m\u001b[0m \u001b[1m1s\u001b[0m 8ms/step - accuracy: 0.9109 - loss: 0.3733 - val_accuracy: 0.9233 - val_loss: 0.2856\n",
            "Epoch 15/100\n",
            "\u001b[1m93/93\u001b[0m \u001b[32m━━━━━━━━━━━━━━━━━━━━\u001b[0m\u001b[37m\u001b[0m \u001b[1m1s\u001b[0m 9ms/step - accuracy: 0.9211 - loss: 0.3602 - val_accuracy: 0.9192 - val_loss: 0.2917\n",
            "Epoch 16/100\n",
            "\u001b[1m93/93\u001b[0m \u001b[32m━━━━━━━━━━━━━━━━━━━━\u001b[0m\u001b[37m\u001b[0m \u001b[1m1s\u001b[0m 7ms/step - accuracy: 0.9214 - loss: 0.3576 - val_accuracy: 0.9219 - val_loss: 0.2882\n",
            "Epoch 17/100\n",
            "\u001b[1m93/93\u001b[0m \u001b[32m━━━━━━━━━━━━━━━━━━━━\u001b[0m\u001b[37m\u001b[0m \u001b[1m1s\u001b[0m 5ms/step - accuracy: 0.9199 - loss: 0.3525 - val_accuracy: 0.9219 - val_loss: 0.2808\n",
            "Epoch 18/100\n",
            "\u001b[1m93/93\u001b[0m \u001b[32m━━━━━━━━━━━━━━━━━━━━\u001b[0m\u001b[37m\u001b[0m \u001b[1m1s\u001b[0m 6ms/step - accuracy: 0.9209 - loss: 0.3395 - val_accuracy: 0.9233 - val_loss: 0.2734\n",
            "Epoch 19/100\n",
            "\u001b[1m93/93\u001b[0m \u001b[32m━━━━━━━━━━━━━━━━━━━━\u001b[0m\u001b[37m\u001b[0m \u001b[1m1s\u001b[0m 3ms/step - accuracy: 0.9231 - loss: 0.3382 - val_accuracy: 0.9219 - val_loss: 0.2797\n",
            "Epoch 20/100\n",
            "\u001b[1m93/93\u001b[0m \u001b[32m━━━━━━━━━━━━━━━━━━━━\u001b[0m\u001b[37m\u001b[0m \u001b[1m1s\u001b[0m 3ms/step - accuracy: 0.9237 - loss: 0.3273 - val_accuracy: 0.9475 - val_loss: 0.2708\n",
            "Epoch 21/100\n",
            "\u001b[1m93/93\u001b[0m \u001b[32m━━━━━━━━━━━━━━━━━━━━\u001b[0m\u001b[37m\u001b[0m \u001b[1m0s\u001b[0m 3ms/step - accuracy: 0.9152 - loss: 0.3482 - val_accuracy: 0.9233 - val_loss: 0.2720\n",
            "Epoch 22/100\n",
            "\u001b[1m93/93\u001b[0m \u001b[32m━━━━━━━━━━━━━━━━━━━━\u001b[0m\u001b[37m\u001b[0m \u001b[1m0s\u001b[0m 3ms/step - accuracy: 0.9318 - loss: 0.3407 - val_accuracy: 0.9219 - val_loss: 0.2644\n",
            "Epoch 23/100\n",
            "\u001b[1m93/93\u001b[0m \u001b[32m━━━━━━━━━━━━━━━━━━━━\u001b[0m\u001b[37m\u001b[0m \u001b[1m1s\u001b[0m 3ms/step - accuracy: 0.9270 - loss: 0.3218 - val_accuracy: 0.9219 - val_loss: 0.2635\n",
            "Epoch 24/100\n",
            "\u001b[1m93/93\u001b[0m \u001b[32m━━━━━━━━━━━━━━━━━━━━\u001b[0m\u001b[37m\u001b[0m \u001b[1m1s\u001b[0m 3ms/step - accuracy: 0.9201 - loss: 0.3389 - val_accuracy: 0.9219 - val_loss: 0.2599\n",
            "Epoch 25/100\n",
            "\u001b[1m93/93\u001b[0m \u001b[32m━━━━━━━━━━━━━━━━━━━━\u001b[0m\u001b[37m\u001b[0m \u001b[1m0s\u001b[0m 3ms/step - accuracy: 0.9189 - loss: 0.3225 - val_accuracy: 0.9260 - val_loss: 0.2576\n",
            "Epoch 26/100\n",
            "\u001b[1m93/93\u001b[0m \u001b[32m━━━━━━━━━━━━━━━━━━━━\u001b[0m\u001b[37m\u001b[0m \u001b[1m0s\u001b[0m 3ms/step - accuracy: 0.9244 - loss: 0.3231 - val_accuracy: 0.9233 - val_loss: 0.2619\n",
            "Epoch 27/100\n",
            "\u001b[1m93/93\u001b[0m \u001b[32m━━━━━━━━━━━━━━━━━━━━\u001b[0m\u001b[37m\u001b[0m \u001b[1m0s\u001b[0m 3ms/step - accuracy: 0.9209 - loss: 0.3298 - val_accuracy: 0.9219 - val_loss: 0.2648\n",
            "Epoch 28/100\n",
            "\u001b[1m93/93\u001b[0m \u001b[32m━━━━━━━━━━━━━━━━━━━━\u001b[0m\u001b[37m\u001b[0m \u001b[1m0s\u001b[0m 3ms/step - accuracy: 0.9250 - loss: 0.3279 - val_accuracy: 0.9233 - val_loss: 0.2594\n",
            "Epoch 29/100\n",
            "\u001b[1m93/93\u001b[0m \u001b[32m━━━━━━━━━━━━━━━━━━━━\u001b[0m\u001b[37m\u001b[0m \u001b[1m1s\u001b[0m 5ms/step - accuracy: 0.9173 - loss: 0.3315 - val_accuracy: 0.9206 - val_loss: 0.2559\n",
            "Epoch 30/100\n",
            "\u001b[1m93/93\u001b[0m \u001b[32m━━━━━━━━━━━━━━━━━━━━\u001b[0m\u001b[37m\u001b[0m \u001b[1m1s\u001b[0m 5ms/step - accuracy: 0.9275 - loss: 0.3179 - val_accuracy: 0.9219 - val_loss: 0.2548\n",
            "Epoch 31/100\n",
            "\u001b[1m93/93\u001b[0m \u001b[32m━━━━━━━━━━━━━━━━━━━━\u001b[0m\u001b[37m\u001b[0m \u001b[1m1s\u001b[0m 5ms/step - accuracy: 0.9317 - loss: 0.3089 - val_accuracy: 0.9246 - val_loss: 0.2461\n",
            "Epoch 32/100\n",
            "\u001b[1m93/93\u001b[0m \u001b[32m━━━━━━━━━━━━━━━━━━━━\u001b[0m\u001b[37m\u001b[0m \u001b[1m1s\u001b[0m 5ms/step - accuracy: 0.9274 - loss: 0.3153 - val_accuracy: 0.9233 - val_loss: 0.2479\n",
            "Epoch 33/100\n",
            "\u001b[1m93/93\u001b[0m \u001b[32m━━━━━━━━━━━━━━━━━━━━\u001b[0m\u001b[37m\u001b[0m \u001b[1m1s\u001b[0m 6ms/step - accuracy: 0.9204 - loss: 0.3086 - val_accuracy: 0.9287 - val_loss: 0.2429\n",
            "Epoch 34/100\n",
            "\u001b[1m93/93\u001b[0m \u001b[32m━━━━━━━━━━━━━━━━━━━━\u001b[0m\u001b[37m\u001b[0m \u001b[1m1s\u001b[0m 5ms/step - accuracy: 0.9145 - loss: 0.3339 - val_accuracy: 0.9233 - val_loss: 0.2531\n",
            "Epoch 35/100\n",
            "\u001b[1m93/93\u001b[0m \u001b[32m━━━━━━━━━━━━━━━━━━━━\u001b[0m\u001b[37m\u001b[0m \u001b[1m0s\u001b[0m 3ms/step - accuracy: 0.9235 - loss: 0.3059 - val_accuracy: 0.9233 - val_loss: 0.2416\n",
            "Epoch 36/100\n",
            "\u001b[1m93/93\u001b[0m \u001b[32m━━━━━━━━━━━━━━━━━━━━\u001b[0m\u001b[37m\u001b[0m \u001b[1m0s\u001b[0m 3ms/step - accuracy: 0.9246 - loss: 0.3113 - val_accuracy: 0.9219 - val_loss: 0.2499\n",
            "Epoch 37/100\n",
            "\u001b[1m93/93\u001b[0m \u001b[32m━━━━━━━━━━━━━━━━━━━━\u001b[0m\u001b[37m\u001b[0m \u001b[1m1s\u001b[0m 3ms/step - accuracy: 0.9204 - loss: 0.3149 - val_accuracy: 0.9529 - val_loss: 0.2396\n",
            "Epoch 38/100\n",
            "\u001b[1m93/93\u001b[0m \u001b[32m━━━━━━━━━━━━━━━━━━━━\u001b[0m\u001b[37m\u001b[0m \u001b[1m1s\u001b[0m 3ms/step - accuracy: 0.9322 - loss: 0.3070 - val_accuracy: 0.9367 - val_loss: 0.2392\n",
            "Epoch 39/100\n",
            "\u001b[1m93/93\u001b[0m \u001b[32m━━━━━━━━━━━━━━━━━━━━\u001b[0m\u001b[37m\u001b[0m \u001b[1m0s\u001b[0m 3ms/step - accuracy: 0.9223 - loss: 0.3018 - val_accuracy: 0.9219 - val_loss: 0.2588\n",
            "Epoch 40/100\n",
            "\u001b[1m93/93\u001b[0m \u001b[32m━━━━━━━━━━━━━━━━━━━━\u001b[0m\u001b[37m\u001b[0m \u001b[1m0s\u001b[0m 3ms/step - accuracy: 0.9262 - loss: 0.3049 - val_accuracy: 0.9219 - val_loss: 0.2416\n",
            "Epoch 41/100\n",
            "\u001b[1m93/93\u001b[0m \u001b[32m━━━━━━━━━━━━━━━━━━━━\u001b[0m\u001b[37m\u001b[0m \u001b[1m0s\u001b[0m 3ms/step - accuracy: 0.9145 - loss: 0.3149 - val_accuracy: 0.9219 - val_loss: 0.2433\n",
            "Epoch 42/100\n",
            "\u001b[1m93/93\u001b[0m \u001b[32m━━━━━━━━━━━━━━━━━━━━\u001b[0m\u001b[37m\u001b[0m \u001b[1m0s\u001b[0m 3ms/step - accuracy: 0.9263 - loss: 0.2949 - val_accuracy: 0.9246 - val_loss: 0.2376\n",
            "Epoch 43/100\n",
            "\u001b[1m93/93\u001b[0m \u001b[32m━━━━━━━━━━━━━━━━━━━━\u001b[0m\u001b[37m\u001b[0m \u001b[1m0s\u001b[0m 3ms/step - accuracy: 0.9334 - loss: 0.2974 - val_accuracy: 0.9273 - val_loss: 0.2306\n",
            "Epoch 44/100\n",
            "\u001b[1m93/93\u001b[0m \u001b[32m━━━━━━━━━━━━━━━━━━━━\u001b[0m\u001b[37m\u001b[0m \u001b[1m0s\u001b[0m 3ms/step - accuracy: 0.9221 - loss: 0.3060 - val_accuracy: 0.9287 - val_loss: 0.2320\n",
            "Epoch 45/100\n",
            "\u001b[1m93/93\u001b[0m \u001b[32m━━━━━━━━━━━━━━━━━━━━\u001b[0m\u001b[37m\u001b[0m \u001b[1m1s\u001b[0m 3ms/step - accuracy: 0.9295 - loss: 0.2936 - val_accuracy: 0.9542 - val_loss: 0.2259\n",
            "Epoch 46/100\n",
            "\u001b[1m93/93\u001b[0m \u001b[32m━━━━━━━━━━━━━━━━━━━━\u001b[0m\u001b[37m\u001b[0m \u001b[1m0s\u001b[0m 3ms/step - accuracy: 0.9168 - loss: 0.3080 - val_accuracy: 0.9233 - val_loss: 0.2364\n",
            "Epoch 47/100\n",
            "\u001b[1m93/93\u001b[0m \u001b[32m━━━━━━━━━━━━━━━━━━━━\u001b[0m\u001b[37m\u001b[0m \u001b[1m0s\u001b[0m 3ms/step - accuracy: 0.9280 - loss: 0.2971 - val_accuracy: 0.9515 - val_loss: 0.2254\n",
            "Epoch 48/100\n",
            "\u001b[1m93/93\u001b[0m \u001b[32m━━━━━━━━━━━━━━━━━━━━\u001b[0m\u001b[37m\u001b[0m \u001b[1m1s\u001b[0m 3ms/step - accuracy: 0.9204 - loss: 0.3049 - val_accuracy: 0.9233 - val_loss: 0.2381\n",
            "Epoch 49/100\n",
            "\u001b[1m93/93\u001b[0m \u001b[32m━━━━━━━━━━━━━━━━━━━━\u001b[0m\u001b[37m\u001b[0m \u001b[1m1s\u001b[0m 3ms/step - accuracy: 0.9307 - loss: 0.2809 - val_accuracy: 0.9367 - val_loss: 0.2283\n",
            "Epoch 50/100\n",
            "\u001b[1m93/93\u001b[0m \u001b[32m━━━━━━━━━━━━━━━━━━━━\u001b[0m\u001b[37m\u001b[0m \u001b[1m1s\u001b[0m 3ms/step - accuracy: 0.9292 - loss: 0.2890 - val_accuracy: 0.9246 - val_loss: 0.2263\n",
            "Epoch 51/100\n",
            "\u001b[1m93/93\u001b[0m \u001b[32m━━━━━━━━━━━━━━━━━━━━\u001b[0m\u001b[37m\u001b[0m \u001b[1m0s\u001b[0m 3ms/step - accuracy: 0.9235 - loss: 0.2987 - val_accuracy: 0.9394 - val_loss: 0.2214\n",
            "Epoch 52/100\n",
            "\u001b[1m93/93\u001b[0m \u001b[32m━━━━━━━━━━━━━━━━━━━━\u001b[0m\u001b[37m\u001b[0m \u001b[1m0s\u001b[0m 3ms/step - accuracy: 0.9270 - loss: 0.2897 - val_accuracy: 0.9408 - val_loss: 0.2247\n",
            "Epoch 53/100\n",
            "\u001b[1m93/93\u001b[0m \u001b[32m━━━━━━━━━━━━━━━━━━━━\u001b[0m\u001b[37m\u001b[0m \u001b[1m0s\u001b[0m 3ms/step - accuracy: 0.9321 - loss: 0.2753 - val_accuracy: 0.9542 - val_loss: 0.2209\n",
            "Epoch 54/100\n",
            "\u001b[1m93/93\u001b[0m \u001b[32m━━━━━━━━━━━━━━━━━━━━\u001b[0m\u001b[37m\u001b[0m \u001b[1m0s\u001b[0m 3ms/step - accuracy: 0.9317 - loss: 0.2875 - val_accuracy: 0.9462 - val_loss: 0.2193\n",
            "Epoch 55/100\n",
            "\u001b[1m93/93\u001b[0m \u001b[32m━━━━━━━━━━━━━━━━━━━━\u001b[0m\u001b[37m\u001b[0m \u001b[1m0s\u001b[0m 3ms/step - accuracy: 0.9357 - loss: 0.2780 - val_accuracy: 0.9448 - val_loss: 0.2172\n",
            "Epoch 56/100\n",
            "\u001b[1m93/93\u001b[0m \u001b[32m━━━━━━━━━━━━━━━━━━━━\u001b[0m\u001b[37m\u001b[0m \u001b[1m0s\u001b[0m 3ms/step - accuracy: 0.9260 - loss: 0.2871 - val_accuracy: 0.9542 - val_loss: 0.2154\n",
            "Epoch 57/100\n",
            "\u001b[1m93/93\u001b[0m \u001b[32m━━━━━━━━━━━━━━━━━━━━\u001b[0m\u001b[37m\u001b[0m \u001b[1m0s\u001b[0m 3ms/step - accuracy: 0.9374 - loss: 0.2749 - val_accuracy: 0.9448 - val_loss: 0.2158\n",
            "Epoch 58/100\n",
            "\u001b[1m93/93\u001b[0m \u001b[32m━━━━━━━━━━━━━━━━━━━━\u001b[0m\u001b[37m\u001b[0m \u001b[1m0s\u001b[0m 3ms/step - accuracy: 0.9291 - loss: 0.2872 - val_accuracy: 0.9287 - val_loss: 0.2194\n",
            "Epoch 59/100\n",
            "\u001b[1m93/93\u001b[0m \u001b[32m━━━━━━━━━━━━━━━━━━━━\u001b[0m\u001b[37m\u001b[0m \u001b[1m0s\u001b[0m 3ms/step - accuracy: 0.9399 - loss: 0.2683 - val_accuracy: 0.9260 - val_loss: 0.2191\n",
            "Epoch 60/100\n",
            "\u001b[1m93/93\u001b[0m \u001b[32m━━━━━━━━━━━━━━━━━━━━\u001b[0m\u001b[37m\u001b[0m \u001b[1m1s\u001b[0m 5ms/step - accuracy: 0.9386 - loss: 0.2686 - val_accuracy: 0.9637 - val_loss: 0.2121\n",
            "Epoch 61/100\n",
            "\u001b[1m93/93\u001b[0m \u001b[32m━━━━━━━━━━━━━━━━━━━━\u001b[0m\u001b[37m\u001b[0m \u001b[1m0s\u001b[0m 5ms/step - accuracy: 0.9305 - loss: 0.2858 - val_accuracy: 0.9219 - val_loss: 0.2348\n",
            "Epoch 62/100\n",
            "\u001b[1m93/93\u001b[0m \u001b[32m━━━━━━━━━━━━━━━━━━━━\u001b[0m\u001b[37m\u001b[0m \u001b[1m1s\u001b[0m 6ms/step - accuracy: 0.9268 - loss: 0.2816 - val_accuracy: 0.9314 - val_loss: 0.2147\n",
            "Epoch 63/100\n",
            "\u001b[1m93/93\u001b[0m \u001b[32m━━━━━━━━━━━━━━━━━━━━\u001b[0m\u001b[37m\u001b[0m \u001b[1m1s\u001b[0m 5ms/step - accuracy: 0.9295 - loss: 0.2761 - val_accuracy: 0.9246 - val_loss: 0.2194\n",
            "Epoch 64/100\n",
            "\u001b[1m93/93\u001b[0m \u001b[32m━━━━━━━━━━━━━━━━━━━━\u001b[0m\u001b[37m\u001b[0m \u001b[1m1s\u001b[0m 5ms/step - accuracy: 0.9315 - loss: 0.2811 - val_accuracy: 0.9246 - val_loss: 0.2227\n",
            "Epoch 65/100\n",
            "\u001b[1m93/93\u001b[0m \u001b[32m━━━━━━━━━━━━━━━━━━━━\u001b[0m\u001b[37m\u001b[0m \u001b[1m0s\u001b[0m 3ms/step - accuracy: 0.9307 - loss: 0.2705 - val_accuracy: 0.9421 - val_loss: 0.2141\n",
            "Epoch 66/100\n",
            "\u001b[1m93/93\u001b[0m \u001b[32m━━━━━━━━━━━━━━━━━━━━\u001b[0m\u001b[37m\u001b[0m \u001b[1m1s\u001b[0m 3ms/step - accuracy: 0.9314 - loss: 0.2675 - val_accuracy: 0.9529 - val_loss: 0.2127\n",
            "Epoch 67/100\n",
            "\u001b[1m93/93\u001b[0m \u001b[32m━━━━━━━━━━━━━━━━━━━━\u001b[0m\u001b[37m\u001b[0m \u001b[1m1s\u001b[0m 3ms/step - accuracy: 0.9270 - loss: 0.2731 - val_accuracy: 0.9327 - val_loss: 0.2133\n",
            "Epoch 68/100\n",
            "\u001b[1m93/93\u001b[0m \u001b[32m━━━━━━━━━━━━━━━━━━━━\u001b[0m\u001b[37m\u001b[0m \u001b[1m0s\u001b[0m 3ms/step - accuracy: 0.9332 - loss: 0.2805 - val_accuracy: 0.9677 - val_loss: 0.2080\n",
            "Epoch 69/100\n",
            "\u001b[1m93/93\u001b[0m \u001b[32m━━━━━━━━━━━━━━━━━━━━\u001b[0m\u001b[37m\u001b[0m \u001b[1m1s\u001b[0m 3ms/step - accuracy: 0.9295 - loss: 0.2789 - val_accuracy: 0.9421 - val_loss: 0.2092\n",
            "Epoch 70/100\n",
            "\u001b[1m93/93\u001b[0m \u001b[32m━━━━━━━━━━━━━━━━━━━━\u001b[0m\u001b[37m\u001b[0m \u001b[1m0s\u001b[0m 3ms/step - accuracy: 0.9267 - loss: 0.2774 - val_accuracy: 0.9529 - val_loss: 0.2074\n",
            "Epoch 71/100\n",
            "\u001b[1m93/93\u001b[0m \u001b[32m━━━━━━━━━━━━━━━━━━━━\u001b[0m\u001b[37m\u001b[0m \u001b[1m0s\u001b[0m 3ms/step - accuracy: 0.9251 - loss: 0.2806 - val_accuracy: 0.9677 - val_loss: 0.2059\n",
            "Epoch 72/100\n",
            "\u001b[1m93/93\u001b[0m \u001b[32m━━━━━━━━━━━━━━━━━━━━\u001b[0m\u001b[37m\u001b[0m \u001b[1m0s\u001b[0m 3ms/step - accuracy: 0.9253 - loss: 0.2811 - val_accuracy: 0.9381 - val_loss: 0.2121\n",
            "Epoch 73/100\n",
            "\u001b[1m93/93\u001b[0m \u001b[32m━━━━━━━━━━━━━━━━━━━━\u001b[0m\u001b[37m\u001b[0m \u001b[1m0s\u001b[0m 3ms/step - accuracy: 0.9307 - loss: 0.2713 - val_accuracy: 0.9233 - val_loss: 0.2145\n",
            "Epoch 74/100\n",
            "\u001b[1m93/93\u001b[0m \u001b[32m━━━━━━━━━━━━━━━━━━━━\u001b[0m\u001b[37m\u001b[0m \u001b[1m1s\u001b[0m 3ms/step - accuracy: 0.9320 - loss: 0.2570 - val_accuracy: 0.9556 - val_loss: 0.2028\n",
            "Epoch 75/100\n",
            "\u001b[1m93/93\u001b[0m \u001b[32m━━━━━━━━━━━━━━━━━━━━\u001b[0m\u001b[37m\u001b[0m \u001b[1m0s\u001b[0m 3ms/step - accuracy: 0.9303 - loss: 0.2718 - val_accuracy: 0.9542 - val_loss: 0.2026\n",
            "Epoch 76/100\n",
            "\u001b[1m93/93\u001b[0m \u001b[32m━━━━━━━━━━━━━━━━━━━━\u001b[0m\u001b[37m\u001b[0m \u001b[1m0s\u001b[0m 3ms/step - accuracy: 0.9323 - loss: 0.2744 - val_accuracy: 0.9300 - val_loss: 0.2085\n",
            "Epoch 77/100\n",
            "\u001b[1m93/93\u001b[0m \u001b[32m━━━━━━━━━━━━━━━━━━━━\u001b[0m\u001b[37m\u001b[0m \u001b[1m0s\u001b[0m 3ms/step - accuracy: 0.9282 - loss: 0.2672 - val_accuracy: 0.9354 - val_loss: 0.2110\n",
            "Epoch 78/100\n",
            "\u001b[1m93/93\u001b[0m \u001b[32m━━━━━━━━━━━━━━━━━━━━\u001b[0m\u001b[37m\u001b[0m \u001b[1m0s\u001b[0m 3ms/step - accuracy: 0.9403 - loss: 0.2705 - val_accuracy: 0.9610 - val_loss: 0.2017\n",
            "Epoch 79/100\n",
            "\u001b[1m93/93\u001b[0m \u001b[32m━━━━━━━━━━━━━━━━━━━━\u001b[0m\u001b[37m\u001b[0m \u001b[1m1s\u001b[0m 3ms/step - accuracy: 0.9318 - loss: 0.2681 - val_accuracy: 0.9529 - val_loss: 0.2084\n",
            "Epoch 80/100\n",
            "\u001b[1m93/93\u001b[0m \u001b[32m━━━━━━━━━━━━━━━━━━━━\u001b[0m\u001b[37m\u001b[0m \u001b[1m0s\u001b[0m 3ms/step - accuracy: 0.9388 - loss: 0.2633 - val_accuracy: 0.9354 - val_loss: 0.2087\n",
            "Epoch 81/100\n",
            "\u001b[1m93/93\u001b[0m \u001b[32m━━━━━━━━━━━━━━━━━━━━\u001b[0m\u001b[37m\u001b[0m \u001b[1m0s\u001b[0m 3ms/step - accuracy: 0.9280 - loss: 0.2753 - val_accuracy: 0.9529 - val_loss: 0.1999\n",
            "Epoch 82/100\n",
            "\u001b[1m93/93\u001b[0m \u001b[32m━━━━━━━━━━━━━━━━━━━━\u001b[0m\u001b[37m\u001b[0m \u001b[1m0s\u001b[0m 3ms/step - accuracy: 0.9225 - loss: 0.2820 - val_accuracy: 0.9610 - val_loss: 0.2017\n",
            "Epoch 83/100\n",
            "\u001b[1m93/93\u001b[0m \u001b[32m━━━━━━━━━━━━━━━━━━━━\u001b[0m\u001b[37m\u001b[0m \u001b[1m1s\u001b[0m 3ms/step - accuracy: 0.9403 - loss: 0.2579 - val_accuracy: 0.9246 - val_loss: 0.2136\n",
            "Epoch 84/100\n",
            "\u001b[1m93/93\u001b[0m \u001b[32m━━━━━━━━━━━━━━━━━━━━\u001b[0m\u001b[37m\u001b[0m \u001b[1m0s\u001b[0m 3ms/step - accuracy: 0.9297 - loss: 0.2667 - val_accuracy: 0.9448 - val_loss: 0.2012\n",
            "Epoch 85/100\n",
            "\u001b[1m93/93\u001b[0m \u001b[32m━━━━━━━━━━━━━━━━━━━━\u001b[0m\u001b[37m\u001b[0m \u001b[1m0s\u001b[0m 3ms/step - accuracy: 0.9369 - loss: 0.2680 - val_accuracy: 0.9785 - val_loss: 0.1921\n",
            "Epoch 86/100\n",
            "\u001b[1m93/93\u001b[0m \u001b[32m━━━━━━━━━━━━━━━━━━━━\u001b[0m\u001b[37m\u001b[0m \u001b[1m0s\u001b[0m 3ms/step - accuracy: 0.9365 - loss: 0.2602 - val_accuracy: 0.9475 - val_loss: 0.1966\n",
            "Epoch 87/100\n",
            "\u001b[1m93/93\u001b[0m \u001b[32m━━━━━━━━━━━━━━━━━━━━\u001b[0m\u001b[37m\u001b[0m \u001b[1m1s\u001b[0m 3ms/step - accuracy: 0.9222 - loss: 0.2718 - val_accuracy: 0.9408 - val_loss: 0.2029\n",
            "Epoch 88/100\n",
            "\u001b[1m93/93\u001b[0m \u001b[32m━━━━━━━━━━━━━━━━━━━━\u001b[0m\u001b[37m\u001b[0m \u001b[1m0s\u001b[0m 3ms/step - accuracy: 0.9241 - loss: 0.2851 - val_accuracy: 0.9529 - val_loss: 0.1993\n",
            "Epoch 89/100\n",
            "\u001b[1m93/93\u001b[0m \u001b[32m━━━━━━━━━━━━━━━━━━━━\u001b[0m\u001b[37m\u001b[0m \u001b[1m1s\u001b[0m 5ms/step - accuracy: 0.9217 - loss: 0.2743 - val_accuracy: 0.9408 - val_loss: 0.1995\n",
            "Epoch 90/100\n",
            "\u001b[1m93/93\u001b[0m \u001b[32m━━━━━━━━━━━━━━━━━━━━\u001b[0m\u001b[37m\u001b[0m \u001b[1m0s\u001b[0m 4ms/step - accuracy: 0.9323 - loss: 0.2608 - val_accuracy: 0.9502 - val_loss: 0.2005\n",
            "Epoch 91/100\n",
            "\u001b[1m93/93\u001b[0m \u001b[32m━━━━━━━━━━━━━━━━━━━━\u001b[0m\u001b[37m\u001b[0m \u001b[1m1s\u001b[0m 6ms/step - accuracy: 0.9312 - loss: 0.2561 - val_accuracy: 0.9637 - val_loss: 0.1900\n",
            "Epoch 92/100\n",
            "\u001b[1m93/93\u001b[0m \u001b[32m━━━━━━━━━━━━━━━━━━━━\u001b[0m\u001b[37m\u001b[0m \u001b[1m1s\u001b[0m 5ms/step - accuracy: 0.9426 - loss: 0.2461 - val_accuracy: 0.9394 - val_loss: 0.2071\n",
            "Epoch 93/100\n",
            "\u001b[1m93/93\u001b[0m \u001b[32m━━━━━━━━━━━━━━━━━━━━\u001b[0m\u001b[37m\u001b[0m \u001b[1m1s\u001b[0m 5ms/step - accuracy: 0.9329 - loss: 0.2671 - val_accuracy: 0.9354 - val_loss: 0.2022\n",
            "Epoch 94/100\n",
            "\u001b[1m93/93\u001b[0m \u001b[32m━━━━━━━━━━━━━━━━━━━━\u001b[0m\u001b[37m\u001b[0m \u001b[1m1s\u001b[0m 5ms/step - accuracy: 0.9371 - loss: 0.2566 - val_accuracy: 0.9529 - val_loss: 0.1981\n",
            "Epoch 95/100\n",
            "\u001b[1m93/93\u001b[0m \u001b[32m━━━━━━━━━━━━━━━━━━━━\u001b[0m\u001b[37m\u001b[0m \u001b[1m0s\u001b[0m 4ms/step - accuracy: 0.9263 - loss: 0.2718 - val_accuracy: 0.9758 - val_loss: 0.1928\n",
            "Epoch 96/100\n",
            "\u001b[1m93/93\u001b[0m \u001b[32m━━━━━━━━━━━━━━━━━━━━\u001b[0m\u001b[37m\u001b[0m \u001b[1m1s\u001b[0m 3ms/step - accuracy: 0.9376 - loss: 0.2632 - val_accuracy: 0.9489 - val_loss: 0.1924\n",
            "Epoch 97/100\n",
            "\u001b[1m93/93\u001b[0m \u001b[32m━━━━━━━━━━━━━━━━━━━━\u001b[0m\u001b[37m\u001b[0m \u001b[1m1s\u001b[0m 4ms/step - accuracy: 0.9314 - loss: 0.2609 - val_accuracy: 0.9529 - val_loss: 0.1937\n",
            "Epoch 98/100\n",
            "\u001b[1m93/93\u001b[0m \u001b[32m━━━━━━━━━━━━━━━━━━━━\u001b[0m\u001b[37m\u001b[0m \u001b[1m1s\u001b[0m 3ms/step - accuracy: 0.9357 - loss: 0.2542 - val_accuracy: 0.9515 - val_loss: 0.1915\n",
            "Epoch 99/100\n",
            "\u001b[1m93/93\u001b[0m \u001b[32m━━━━━━━━━━━━━━━━━━━━\u001b[0m\u001b[37m\u001b[0m \u001b[1m0s\u001b[0m 4ms/step - accuracy: 0.9284 - loss: 0.2572 - val_accuracy: 0.9300 - val_loss: 0.2016\n",
            "Epoch 100/100\n",
            "\u001b[1m93/93\u001b[0m \u001b[32m━━━━━━━━━━━━━━━━━━━━\u001b[0m\u001b[37m\u001b[0m \u001b[1m0s\u001b[0m 3ms/step - accuracy: 0.9410 - loss: 0.2551 - val_accuracy: 0.9529 - val_loss: 0.1951\n",
            "\u001b[1m30/30\u001b[0m \u001b[32m━━━━━━━━━━━━━━━━━━━━\u001b[0m\u001b[37m\u001b[0m \u001b[1m0s\u001b[0m 1ms/step - accuracy: 0.9707 - loss: 0.1938 \n",
            "Test Accuracy: 0.97\n"
          ]
        }
      ]
    },
    {
      "cell_type": "code",
      "source": [
        "\"\"\"\n",
        "\n",
        "# Build a deep learning model\n",
        "model = Sequential([\n",
        "    Dense(64, activation='relu', input_shape=(X_train.shape[1],)),\n",
        "    Dense(32, activation='relu'),\n",
        "    Dense(16, activation='relu'),\n",
        "    Dense(num_classes, activation='softmax')  # Softmax activation for multi-class classification\n",
        "])\n",
        "\n",
        "# Compile the model with sparse_categorical_crossentropy for multi-class classification\n",
        "model.compile(optimizer='adam', loss='sparse_categorical_crossentropy', metrics=['accuracy'])\n",
        "\n",
        "# Train the model\n",
        "model.fit(X_train, y_train, epochs=20, batch_size=32, validation_split=0.2)\n",
        "\n",
        "# Evaluate the model\n",
        "loss, accuracy = model.evaluate(X_test, y_test)\n",
        "print(f\"Test Accuracy: {accuracy:.2f}\")\"\"\"\n"
      ],
      "metadata": {
        "colab": {
          "base_uri": "https://localhost:8080/",
          "height": 139
        },
        "id": "v9BRANOlBb0W",
        "outputId": "b0cd0d40-34d1-4a59-d73c-b3662797668d"
      },
      "id": "v9BRANOlBb0W",
      "execution_count": null,
      "outputs": [
        {
          "output_type": "execute_result",
          "data": {
            "text/plain": [
              "'\\n\\n# Build a deep learning model\\nmodel = Sequential([\\n    Dense(64, activation=\\'relu\\', input_shape=(X_train.shape[1],)),\\n    Dense(32, activation=\\'relu\\'),\\n    Dense(16, activation=\\'relu\\'),\\n    Dense(num_classes, activation=\\'softmax\\')  # Softmax activation for multi-class classification\\n])\\n\\n# Compile the model with sparse_categorical_crossentropy for multi-class classification\\nmodel.compile(optimizer=\\'adam\\', loss=\\'sparse_categorical_crossentropy\\', metrics=[\\'accuracy\\'])\\n\\n# Train the model\\nmodel.fit(X_train, y_train, epochs=20, batch_size=32, validation_split=0.2)\\n\\n# Evaluate the model\\nloss, accuracy = model.evaluate(X_test, y_test)\\nprint(f\"Test Accuracy: {accuracy:.2f}\")'"
            ],
            "application/vnd.google.colaboratory.intrinsic+json": {
              "type": "string"
            }
          },
          "metadata": {},
          "execution_count": 379
        }
      ]
    },
    {
      "cell_type": "markdown",
      "source": [
        "# Evaluation"
      ],
      "metadata": {
        "id": "andgGb2zM_HN"
      },
      "id": "andgGb2zM_HN"
    },
    {
      "cell_type": "code",
      "source": [
        "# **4. Évaluation du modèle**\n",
        "loss, accuracy = model.evaluate(X_test, y_test)\n",
        "print(f\"Test Accuracy: {accuracy:.2f}\")\n",
        "\n",
        "# **5. Visualisation des performances**\n",
        "plt.figure(figsize=(12, 6))\n",
        "\n",
        "# Courbes de perte\n",
        "plt.subplot(1, 2, 1)\n",
        "plt.plot(history.history['loss'], label='Loss entraînement')\n",
        "plt.plot(history.history['val_loss'], label='Loss validation')\n",
        "plt.title(\"Évolution de la perte\")\n",
        "plt.xlabel(\"Époque\")\n",
        "plt.ylabel(\"Loss\")\n",
        "plt.legend()\n",
        "\n",
        "# Courbes d'accuracy\n",
        "plt.subplot(1, 2, 2)\n",
        "plt.plot(history.history['accuracy'], label='Accuracy entraînement')\n",
        "plt.plot(history.history['val_accuracy'], label='Accuracy validation')\n",
        "plt.title(\"Évolution de l'accuracy\")\n",
        "plt.xlabel(\"Époque\")\n",
        "plt.ylabel(\"Accuracy\")\n",
        "plt.legend()\n",
        "\n",
        "plt.show()\n"
      ],
      "metadata": {
        "colab": {
          "base_uri": "https://localhost:8080/",
          "height": 520
        },
        "id": "d1U7uKpdBlsV",
        "outputId": "28d0965c-f0bd-4f92-9cb8-46ce1d2d570d"
      },
      "id": "d1U7uKpdBlsV",
      "execution_count": null,
      "outputs": [
        {
          "output_type": "stream",
          "name": "stdout",
          "text": [
            "\u001b[1m30/30\u001b[0m \u001b[32m━━━━━━━━━━━━━━━━━━━━\u001b[0m\u001b[37m\u001b[0m \u001b[1m0s\u001b[0m 1ms/step - accuracy: 0.9707 - loss: 0.1938 \n",
            "Test Accuracy: 0.97\n"
          ]
        },
        {
          "output_type": "display_data",
          "data": {
            "text/plain": [
              "<Figure size 1200x600 with 2 Axes>"
            ],
            "image/png": "[encoded data removed]"
          },
          "metadata": {}
        }
      ]
    },
    {
      "cell_type": "markdown",
      "source": [
        "# Test"
      ],
      "metadata": {
        "id": "cw0JFoqCNB5K"
      },
      "id": "cw0JFoqCNB5K"
    },
    {
      "cell_type": "code",
      "execution_count": null,
      "id": "85032d84",
      "metadata": {
        "execution": {
          "iopub.execute_input": "2024-11-17T20:38:24.309679Z",
          "iopub.status.busy": "2024-11-17T20:38:24.309150Z",
          "iopub.status.idle": "2024-11-17T20:38:24.439050Z",
          "shell.execute_reply": "2024-11-17T20:38:24.437798Z"
        },
        "papermill": {
          "duration": 0.147668,
          "end_time": "2024-11-17T20:38:24.441790",
          "exception": false,
          "start_time": "2024-11-17T20:38:24.294122",
          "status": "completed"
        },
        "tags": [],
        "colab": {
          "base_uri": "https://localhost:8080/"
        },
        "id": "85032d84",
        "outputId": "34d1f56a-aa08-4a29-aea4-e20bd9fdcf8e"
      },
      "outputs": [
        {
          "output_type": "stream",
          "name": "stdout",
          "text": [
            "\u001b[1m1/1\u001b[0m \u001b[32m━━━━━━━━━━━━━━━━━━━━\u001b[0m\u001b[37m\u001b[0m \u001b[1m0s\u001b[0m 69ms/step\n",
            "Predicted class: Wet\n"
          ]
        }
      ],
      "source": [
        "# Exemple de données à prédire\n",
        "new_data = pd.DataFrame({\n",
        "    'temperature': [20],         # Température du sol\n",
        "    'soilmiosture': [200],      # Humidité du sol (par exemple, 30%)\n",
        "})\n",
        "\n",
        "# Normalisation des nouvelles données\n",
        "new_data_scaled = scaler.transform(new_data)\n",
        "\n",
        "# Prédiction\n",
        "predictions = model.predict(new_data_scaled)\n",
        "\n",
        "# Obtenir la classe prédite\n",
        "predicted_class = label_encoder.inverse_transform([np.argmax(predictions)])\n",
        "\n",
        "print(f\"Predicted class: {predicted_class[0]}\")\n"
      ]
    },
    {
      "cell_type": "markdown",
      "source": [
        "# Save model"
      ],
      "metadata": {
        "id": "jCvovx5_ZrNe"
      },
      "id": "jCvovx5_ZrNe"
    },
    {
      "cell_type": "code",
      "source": [
        "import tensorflow as tf\n",
        "\n",
        "model.save('saved_model.keras')  # Use .keras extension (recommended)\n",
        "\n",
        "# Load the SavedModel. Note that we also adjusted the load path to match the above\n",
        "model = tf.keras.models.load_model('saved_model.keras')"
      ],
      "metadata": {
        "id": "nt_eQhorON4a"
      },
      "id": "nt_eQhorON4a",
      "execution_count": null,
      "outputs": []
    },
    {
      "cell_type": "code",
      "source": [
        "import tensorflow as tf\n",
        "import tf2onnx\n",
        "import onnx # Import the onnx module\n",
        "\n",
        "# Load your Keras model\n",
        "model = tf.keras.models.load_model('saved_model.keras')\n",
        "\n",
        "# Get the output tensor of the last layer\n",
        "output_tensor = model.layers[-1].output\n",
        "\n",
        "# Create a new Keras model with a named output\n",
        "new_model = tf.keras.models.Model(inputs=model.inputs, outputs=[output_tensor], name=\"new_model\")\n",
        "# Give the output a name\n",
        "new_model._outputs[0]._name = \"output_0\"\n",
        "\n",
        "# Get input shape and create spec\n",
        "input_shape = new_model.input_shape\n",
        "spec = (tf.TensorSpec(input_shape, tf.float32),)\n",
        "\n",
        "# Convert to ONNX using the new model with the named output\n",
        "onnx_model, _ = tf2onnx.convert.from_keras(new_model, input_signature=spec, opset=13)\n",
        "\n",
        "# Save the ONNX model using onnx.save\n",
        "onnx.save(onnx_model, \"model.onnx\") # Call onnx.save to save the model"
      ],
      "metadata": {
        "id": "-QYp5nDNSP4i"
      },
      "id": "-QYp5nDNSP4i",
      "execution_count": null,
      "outputs": []
    },
    {
      "cell_type": "code",
      "source": [
        "import torch\n",
        "import onnx\n",
        "import onnx2pytorch\n",
        "\n",
        "# Charger le modèle ONNX\n",
        "onnx_model = onnx.load(\"model.onnx\")\n",
        "\n",
        "# Convertir le modèle ONNX en modèle PyTorch\n",
        "pytorch_model = onnx2pytorch.ConvertModel(onnx_model)\n",
        "\n",
        "# Sauvegarder le modèle PyTorch\n",
        "torch.save(pytorch_model.state_dict(), 'model.pt')\n"
      ],
      "metadata": {
        "id": "fM3E6IDzUtcD"
      },
      "id": "fM3E6IDzUtcD",
      "execution_count": null,
      "outputs": []
    }
  ],
  "metadata": {
    "kaggle": {
      "accelerator": "none",
      "dataSources": [
        {
          "datasetId": 3678193,
          "sourceId": 6382389,
          "sourceType": "datasetVersion"
        }
      ],
      "dockerImageVersionId": 30786,
      "isGpuEnabled": false,
      "isInternetEnabled": false,
      "language": "python",
      "sourceType": "notebook"
    },
    "kernelspec": {
      "display_name": "Python 3",
      "language": "python",
      "name": "python3"
    },
    "language_info": {
      "codemirror_mode": {
        "name": "ipython",
        "version": 3
      },
      "file_extension": ".py",
      "mimetype": "text/x-python",
      "name": "python",
      "nbconvert_exporter": "python",
      "pygments_lexer": "ipython3",
      "version": "3.10.14"
    },
    "papermill": {
      "default_parameters": {},
      "duration": 29.525824,
      "end_time": "2024-11-17T20:38:26.974325",
      "environment_variables": {},
      "exception": null,
      "input_path": "__notebook__.ipynb",
      "output_path": "__notebook__.ipynb",
      "parameters": {},
      "start_time": "2024-11-17T20:37:57.448501",
      "version": "2.6.0"
    },
    "colab": {
      "provenance": []
    }
  },
  "nbformat": 4,
  "nbformat_minor": 5
}